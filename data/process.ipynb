{
 "cells": [
  {
   "cell_type": "code",
   "execution_count": null,
   "metadata": {},
   "outputs": [],
   "source": [
    "import pandas as pd\n",
    "import seaborn as sns\n",
    "from sklearn.preprocessing import MinMaxScaler\n",
    "import numpy as np\n",
    "import itertools\n",
    "import json\n",
    "import matplotlib.pyplot as plt"
   ]
  },
  {
   "cell_type": "markdown",
   "metadata": {},
   "source": [
    "## Read Original Data"
   ]
  },
  {
   "cell_type": "code",
   "execution_count": null,
   "metadata": {},
   "outputs": [],
   "source": [
    "df = pd.read_csv(\"./data/us_renewable_energy_data.csv\", index_col=0)\n",
    "df.drop([\"date\"], axis=1, inplace=True)\n",
    "# find solar,winds  columns\n",
    "solar_columns = df.filter(like=\"solar.1\")\n",
    "wind_columns = df.filter(like=\"wind\")\n",
    "geo_columns = df.filter(like=\"geo\")\n",
    "# concat dataframe\n",
    "df = pd.concat([solar_columns, wind_columns, geo_columns], axis=1)\n",
    "\n",
    "# MinMax scale by column wise\n",
    "scaler = MinMaxScaler()\n",
    "df_normalized = pd.DataFrame(scaler.fit_transform(df), columns=df.columns)"
   ]
  },
  {
   "cell_type": "markdown",
   "metadata": {},
   "source": [
    "## Make variance matrix "
   ]
  },
  {
   "cell_type": "code",
   "execution_count": null,
   "metadata": {},
   "outputs": [],
   "source": [
    "\n",
    "N = 4\n",
    "\n",
    "solarNColumns = itertools.combinations(solar_columns.columns, N)\n",
    "windNColumns = itertools.combinations(wind_columns.columns, N)\n",
    "geoNColumns = itertools.combinations(geo_columns.columns, N)\n",
    "\n",
    "def matrix_generator():\n",
    "    for i, columns  in enumerate(zip(windNColumns ,geoNColumns,solarNColumns)):\n",
    "\n",
    "        if i >= 1000:\n",
    "            break  # 1000개까지만 처리\n",
    "        windNColumn ,geoNColumn,solarNColumn =columns\n",
    "        # Pick 4 wind columns and 1 solar column\n",
    "        selected_columns = list(windNColumn) + list(geoNColumn) + list(solarNColumn)\n",
    "        df_selected = df_normalized[selected_columns]\n",
    "\n",
    "        # Calculate covariance matrix\n",
    "        yield df_selected.cov().values.tolist()  # 바로 리스트 변환 후 반환\n",
    "\n",
    "\n",
    "# JSON 파일에 한 번만 저장\n",
    "with open(f\"GeoWindSunEquityMatrices{N*3}by{N*3}.json\", \"w\") as f:\n",
    "    json.dump(list(matrix_generator()), f)"
   ]
  },
  {
   "cell_type": "markdown",
   "metadata": {},
   "source": [
    "## Data visualization"
   ]
  },
  {
   "cell_type": "code",
   "execution_count": null,
   "metadata": {},
   "outputs": [],
   "source": [
    "\n",
    "# Calculate the covariance matrix\n",
    "\n",
    "\n",
    "# Create a heatmap\n",
    "plt.figure(figsize=(10, 8))\n",
    "sns.heatmap(solar_columns.corr(), annot=False, cmap=\"coolwarm\", fmt=\".2f\")\n",
    "plt.title('Covariance Matrix Heatmap')\n",
    "plt.show()\n",
    "\n",
    "plt.figure(figsize=(10, 8))\n",
    "sns.heatmap(wind_columns.corr(), annot=False, cmap=\"coolwarm\", fmt=\".2f\")\n",
    "plt.title(\"Covariance Matrix Heatmap\")\n",
    "plt.show()\n",
    "\n",
    "# Calculate the sum of all values in the covariance matrices\n",
    "solar_cov_sum = solar_columns.corr().values.mean()\n",
    "wind_cov_sum = wind_columns.corr().values.mean()\n",
    "\n",
    "# Plot the sums\n",
    "plt.figure(figsize=(6, 4))\n",
    "plt.bar(['Solar', 'Wind'], [solar_cov_sum, wind_cov_sum], color=['orange', 'blue'])\n",
    "plt.ylabel('Sum of Covariance Values')\n",
    "plt.title('Sum of Covariance Values for Solar and Wind Columns')\n",
    "plt.show()\n",
    "\n",
    "# Box plot for the distribution of correlation values\n",
    "plt.figure(figsize=(10, 6))\n",
    "sns.boxplot(data=[solar_columns.corr().values.flatten(), wind_columns.corr().values.flatten()], palette=['orange', 'blue'])\n",
    "plt.xticks([0, 1], ['Solar', 'Wind'])\n",
    "plt.xlim(-1, 1)\n",
    "plt.title('Box Plot of Correlation Values for Solar and Wind Columns')\n",
    "plt.show()\n",
    "\n",
    "# Plot the PDF of the correlation values for solar and wind columns\n",
    "# Plot the PDF of the correlation values for solar and wind columns with filled color\n",
    "plt.figure(figsize=(10, 6))\n",
    "sns.kdeplot(solar_columns.corr().values.flatten(), color='orange', label='Solar' ,fill =True )\n",
    "sns.kdeplot(wind_columns.corr().values.flatten(), color='blue', label='Wind',fill=True)\n",
    "sns.kdeplot(combined_df.corr().values.flatten(), color=\"green\", label=\"Solar + Wind\", fill=True)\n",
    "\n",
    "plt.xlim(-1, 1)\n",
    "plt.title('PDF of Correlation Values for Solar and Wind Columns')\n",
    "plt.legend()\n",
    "plt.show()"
   ]
  }
 ],
 "metadata": {
  "kernelspec": {
   "display_name": "qrf",
   "language": "python",
   "name": "python3"
  },
  "language_info": {
   "codemirror_mode": {
    "name": "ipython",
    "version": 3
   },
   "file_extension": ".py",
   "mimetype": "text/x-python",
   "name": "python",
   "nbconvert_exporter": "python",
   "pygments_lexer": "ipython3",
   "version": "3.12.0"
  }
 },
 "nbformat": 4,
 "nbformat_minor": 2
}
